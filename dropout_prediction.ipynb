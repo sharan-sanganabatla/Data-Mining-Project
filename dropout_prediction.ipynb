{
 "cells": [
  {
   "cell_type": "markdown",
   "metadata": {},
   "source": [
    "# MOOC Dropout Prediction using KDDCup 2015 Dataset"
   ]
  },
  {
   "cell_type": "markdown",
   "metadata": {},
   "source": [
    "### Author:\n",
    "Hari Sai Sharan Sanganabatla, \n",
    "Department of Computer Science,\n",
    "University at Albany,SUNY."
   ]
  },
  {
   "cell_type": "markdown",
   "metadata": {},
   "source": [
    "### Introduction:\n"
   ]
  },
  {
   "cell_type": "markdown",
   "metadata": {},
   "source": [
    "   Online  learnings havebecome  very  popular over the  past  few  yearswhere  students  started enrolling in online  courses  of  their  interest.One  of  the prominent downsidesofthe  online learning systems is dropout prediction whether a student enrolled in a course is likely to persist or drop out of that course. This dropout prediction will help creators to build courses in a better way and ones with a low dropout ratewhich makes learning easy for students."
   ]
  },
  {
   "cell_type": "markdown",
   "metadata": {},
   "source": [
    "## Data Description:"
   ]
  },
  {
   "cell_type": "markdown",
   "metadata": {},
   "source": [
    "   KDDCup2015 Dataset which has the data of courses, modules of that courses and students enrolled inthose courses  and  the  log  data of  the  events  performed by  students  on a particular  course  to  which they are enrolled.The dataset has the data of 40 online courses and 27,250 modules (A course can comprise of several modules, divided into chapters. Each one is represented as a row) and 72,936 enrollments to these courses and their logdata. "
   ]
  },
  {
   "cell_type": "markdown",
   "metadata": {},
   "source": [
    "## Files:"
   ]
  },
  {
   "cell_type": "markdown",
   "metadata": {},
   "source": [
    "### 3.1 Date.csv\n",
    "  - Each line contains the timespan of each course in our log data (both train and test data). The timespan of each course for calculating dropouts is 10 days after the last day of that course, i.e.,  course C is from 2014.4.1 to 2014.4.30 in the given data, a user enrolled the course C will be treated as a dropout if he/she leaves no record from 2014.5.1 to 2014.5.10.\n",
    "  - course_id - course id\n",
    "  - from - the first day of the course in log\n",
    "  - to - the last day of the course in log\n"
   ]
  },
  {
   "cell_type": "markdown",
   "metadata": {},
   "source": [
    "### 3.2 Object.csv"
   ]
  },
  {
   "cell_type": "markdown",
   "metadata": {},
   "source": [
    " Each line in this file describes a module in a course with its category, children objects and release  time. Those modules represent different online materials of the courses, e.g., chapters, videos, problem sets and etc. The modules are organized as a tree, i.e., each course contains several chapters; each chapter contains several sections; and each section contains several objects (videos, problem sets, and etc).\n",
    " - course_id - The course to which the module belongs.\n",
    " - module_id - The ID of a course module.\n",
    " - category - The category of the course module.\n",
    " - children - The children modules of the course module.\n",
    " - start - The time that the module was released to students."
   ]
  },
  {
   "cell_type": "markdown",
   "metadata": {},
   "source": [
    "### 3.3 Enrollment_train.csv"
   ]
  },
  {
   "cell_type": "markdown",
   "metadata": {},
   "source": [
    " Each line is a course enrollment record with an enrollment id, a username U and a course id C, indicating that U enrolled in course C.\n",
    " - enrollment_id - Enrollment ID\n",
    " - username - Student ID.\n",
    " - course_id - Course ID.\n"
   ]
  },
  {
   "cell_type": "markdown",
   "metadata": {},
   "source": [
    "### 3.4  log_train.csv"
   ]
  },
  {
   "cell_type": "markdown",
   "metadata": {},
   "source": [
    " Each line is a behavior record. Each event contains the following information: enrollment_id, username, course_id, time, source (server or browser), event, and object. \n",
    " - enrollment_id - Enrollment ID.\n",
    " - time - Time of the event.\n",
    " - source - Event source (server or browser).\n",
    " - event - In terms of event type, we defined 7 different event types:\n",
    "  1. problem - Working on course assignments.\n",
    "  2. video - Watching course videos.\n",
    "  3. access - Accessing other course objects except videos and assignments.\n",
    "  4. wiki - Accessing the course wiki.\n",
    "  5. discussion - Accessing the course forum.\n",
    "  6. navigate - Navigating to other part of the course.\n",
    "  7. page_close - Closing the web page.\n",
    " - object - The object the student access or navigate to."
   ]
  },
  {
   "cell_type": "markdown",
   "metadata": {},
   "source": [
    "### 3.5 Truth_train.csv"
   ]
  },
  {
   "cell_type": "markdown",
   "metadata": {},
   "source": [
    " Each line contains information about the ground truth of enrollments in the training set. \n",
    " - enrollment_id - Enrollment ID. \n",
    " - dropout - Ground truth of dropout (1 for a dropout event and 0 for continuing study)"
   ]
  },
  {
   "cell_type": "markdown",
   "metadata": {},
   "source": [
    "### Initially, we merge object file and log_train file based on the module id's."
   ]
  },
  {
   "cell_type": "code",
   "execution_count": 1,
   "metadata": {},
   "outputs": [],
   "source": [
    "import pandas as pd\n",
    "a = pd.read_csv('object.csv')\n",
    "b = pd.read_csv('log_train.csv')\n",
    "merge = b.merge(a,left_on='object',right_on='module_id')\n",
    "merge.to_csv(\"finald.csv\",index=False)"
   ]
  },
  {
   "cell_type": "markdown",
   "metadata": {},
   "source": [
    "### The merged file is then written into another file called \"finald.csv\" which is used in the further process"
   ]
  },
  {
   "cell_type": "code",
   "execution_count": 2,
   "metadata": {
    "scrolled": true
   },
   "outputs": [
    {
     "name": "stderr",
     "output_type": "stream",
     "text": [
      "C:\\Users\\saima\\Anaconda3\\lib\\site-packages\\IPython\\core\\interactiveshell.py:3058: DtypeWarning: Columns (9) have mixed types. Specify dtype option on import or set low_memory=False.\n",
      "  interactivity=interactivity, compiler=compiler, result=result)\n"
     ]
    },
    {
     "data": {
      "text/html": [
       "<div>\n",
       "<style scoped>\n",
       "    .dataframe tbody tr th:only-of-type {\n",
       "        vertical-align: middle;\n",
       "    }\n",
       "\n",
       "    .dataframe tbody tr th {\n",
       "        vertical-align: top;\n",
       "    }\n",
       "\n",
       "    .dataframe thead th {\n",
       "        text-align: right;\n",
       "    }\n",
       "</style>\n",
       "<table border=\"1\" class=\"dataframe\">\n",
       "  <thead>\n",
       "    <tr style=\"text-align: right;\">\n",
       "      <th></th>\n",
       "      <th>enrollment_id</th>\n",
       "      <th>time</th>\n",
       "      <th>source</th>\n",
       "      <th>event</th>\n",
       "      <th>object</th>\n",
       "      <th>course_id</th>\n",
       "      <th>module_id</th>\n",
       "      <th>category</th>\n",
       "      <th>children</th>\n",
       "      <th>start</th>\n",
       "    </tr>\n",
       "  </thead>\n",
       "  <tbody>\n",
       "    <tr>\n",
       "      <td>0</td>\n",
       "      <td>1</td>\n",
       "      <td>2014-06-14T09:38:39</td>\n",
       "      <td>server</td>\n",
       "      <td>access</td>\n",
       "      <td>qxvBNYTfiRkNcCvM0hcGwG6hvHdQwnd4</td>\n",
       "      <td>DPnLzkJJqOOPRJfBxIHbQEERiYHu5ila</td>\n",
       "      <td>qxvBNYTfiRkNcCvM0hcGwG6hvHdQwnd4</td>\n",
       "      <td>sequential</td>\n",
       "      <td>eYrKKricgwe3xyR0sBnvtQ70ItlYLlKs QLs2SBYSxph4E...</td>\n",
       "      <td>2013-11-04T01:00:00</td>\n",
       "    </tr>\n",
       "    <tr>\n",
       "      <td>1</td>\n",
       "      <td>1</td>\n",
       "      <td>2014-06-19T06:21:32</td>\n",
       "      <td>server</td>\n",
       "      <td>access</td>\n",
       "      <td>qxvBNYTfiRkNcCvM0hcGwG6hvHdQwnd4</td>\n",
       "      <td>DPnLzkJJqOOPRJfBxIHbQEERiYHu5ila</td>\n",
       "      <td>qxvBNYTfiRkNcCvM0hcGwG6hvHdQwnd4</td>\n",
       "      <td>sequential</td>\n",
       "      <td>eYrKKricgwe3xyR0sBnvtQ70ItlYLlKs QLs2SBYSxph4E...</td>\n",
       "      <td>2013-11-04T01:00:00</td>\n",
       "    </tr>\n",
       "    <tr>\n",
       "      <td>2</td>\n",
       "      <td>1</td>\n",
       "      <td>2014-06-27T01:24:00</td>\n",
       "      <td>server</td>\n",
       "      <td>access</td>\n",
       "      <td>qxvBNYTfiRkNcCvM0hcGwG6hvHdQwnd4</td>\n",
       "      <td>DPnLzkJJqOOPRJfBxIHbQEERiYHu5ila</td>\n",
       "      <td>qxvBNYTfiRkNcCvM0hcGwG6hvHdQwnd4</td>\n",
       "      <td>sequential</td>\n",
       "      <td>eYrKKricgwe3xyR0sBnvtQ70ItlYLlKs QLs2SBYSxph4E...</td>\n",
       "      <td>2013-11-04T01:00:00</td>\n",
       "    </tr>\n",
       "    <tr>\n",
       "      <td>3</td>\n",
       "      <td>1</td>\n",
       "      <td>2014-07-01T08:55:22</td>\n",
       "      <td>server</td>\n",
       "      <td>access</td>\n",
       "      <td>qxvBNYTfiRkNcCvM0hcGwG6hvHdQwnd4</td>\n",
       "      <td>DPnLzkJJqOOPRJfBxIHbQEERiYHu5ila</td>\n",
       "      <td>qxvBNYTfiRkNcCvM0hcGwG6hvHdQwnd4</td>\n",
       "      <td>sequential</td>\n",
       "      <td>eYrKKricgwe3xyR0sBnvtQ70ItlYLlKs QLs2SBYSxph4E...</td>\n",
       "      <td>2013-11-04T01:00:00</td>\n",
       "    </tr>\n",
       "    <tr>\n",
       "      <td>4</td>\n",
       "      <td>4</td>\n",
       "      <td>2014-06-15T01:44:13</td>\n",
       "      <td>server</td>\n",
       "      <td>access</td>\n",
       "      <td>qxvBNYTfiRkNcCvM0hcGwG6hvHdQwnd4</td>\n",
       "      <td>DPnLzkJJqOOPRJfBxIHbQEERiYHu5ila</td>\n",
       "      <td>qxvBNYTfiRkNcCvM0hcGwG6hvHdQwnd4</td>\n",
       "      <td>sequential</td>\n",
       "      <td>eYrKKricgwe3xyR0sBnvtQ70ItlYLlKs QLs2SBYSxph4E...</td>\n",
       "      <td>2013-11-04T01:00:00</td>\n",
       "    </tr>\n",
       "  </tbody>\n",
       "</table>\n",
       "</div>"
      ],
      "text/plain": [
       "   enrollment_id                 time  source   event  \\\n",
       "0              1  2014-06-14T09:38:39  server  access   \n",
       "1              1  2014-06-19T06:21:32  server  access   \n",
       "2              1  2014-06-27T01:24:00  server  access   \n",
       "3              1  2014-07-01T08:55:22  server  access   \n",
       "4              4  2014-06-15T01:44:13  server  access   \n",
       "\n",
       "                             object                         course_id  \\\n",
       "0  qxvBNYTfiRkNcCvM0hcGwG6hvHdQwnd4  DPnLzkJJqOOPRJfBxIHbQEERiYHu5ila   \n",
       "1  qxvBNYTfiRkNcCvM0hcGwG6hvHdQwnd4  DPnLzkJJqOOPRJfBxIHbQEERiYHu5ila   \n",
       "2  qxvBNYTfiRkNcCvM0hcGwG6hvHdQwnd4  DPnLzkJJqOOPRJfBxIHbQEERiYHu5ila   \n",
       "3  qxvBNYTfiRkNcCvM0hcGwG6hvHdQwnd4  DPnLzkJJqOOPRJfBxIHbQEERiYHu5ila   \n",
       "4  qxvBNYTfiRkNcCvM0hcGwG6hvHdQwnd4  DPnLzkJJqOOPRJfBxIHbQEERiYHu5ila   \n",
       "\n",
       "                          module_id    category  \\\n",
       "0  qxvBNYTfiRkNcCvM0hcGwG6hvHdQwnd4  sequential   \n",
       "1  qxvBNYTfiRkNcCvM0hcGwG6hvHdQwnd4  sequential   \n",
       "2  qxvBNYTfiRkNcCvM0hcGwG6hvHdQwnd4  sequential   \n",
       "3  qxvBNYTfiRkNcCvM0hcGwG6hvHdQwnd4  sequential   \n",
       "4  qxvBNYTfiRkNcCvM0hcGwG6hvHdQwnd4  sequential   \n",
       "\n",
       "                                            children                start  \n",
       "0  eYrKKricgwe3xyR0sBnvtQ70ItlYLlKs QLs2SBYSxph4E...  2013-11-04T01:00:00  \n",
       "1  eYrKKricgwe3xyR0sBnvtQ70ItlYLlKs QLs2SBYSxph4E...  2013-11-04T01:00:00  \n",
       "2  eYrKKricgwe3xyR0sBnvtQ70ItlYLlKs QLs2SBYSxph4E...  2013-11-04T01:00:00  \n",
       "3  eYrKKricgwe3xyR0sBnvtQ70ItlYLlKs QLs2SBYSxph4E...  2013-11-04T01:00:00  \n",
       "4  eYrKKricgwe3xyR0sBnvtQ70ItlYLlKs QLs2SBYSxph4E...  2013-11-04T01:00:00  "
      ]
     },
     "execution_count": 2,
     "metadata": {},
     "output_type": "execute_result"
    }
   ],
   "source": [
    "merge1=pd.read_csv('finald.csv')\n",
    "merge1.head()"
   ]
  },
  {
   "cell_type": "markdown",
   "metadata": {},
   "source": [
    "### The formed Dataset is then sorted on the basis of enrollment_id"
   ]
  },
  {
   "cell_type": "code",
   "execution_count": 3,
   "metadata": {},
   "outputs": [
    {
     "data": {
      "text/html": [
       "<div>\n",
       "<style scoped>\n",
       "    .dataframe tbody tr th:only-of-type {\n",
       "        vertical-align: middle;\n",
       "    }\n",
       "\n",
       "    .dataframe tbody tr th {\n",
       "        vertical-align: top;\n",
       "    }\n",
       "\n",
       "    .dataframe thead th {\n",
       "        text-align: right;\n",
       "    }\n",
       "</style>\n",
       "<table border=\"1\" class=\"dataframe\">\n",
       "  <thead>\n",
       "    <tr style=\"text-align: right;\">\n",
       "      <th></th>\n",
       "      <th>enrollment_id</th>\n",
       "      <th>time</th>\n",
       "      <th>source</th>\n",
       "      <th>event</th>\n",
       "      <th>object</th>\n",
       "      <th>course_id</th>\n",
       "      <th>module_id</th>\n",
       "      <th>category</th>\n",
       "      <th>children</th>\n",
       "      <th>start</th>\n",
       "    </tr>\n",
       "  </thead>\n",
       "  <tbody>\n",
       "    <tr>\n",
       "      <td>0</td>\n",
       "      <td>1</td>\n",
       "      <td>2014-06-14T09:38:39</td>\n",
       "      <td>server</td>\n",
       "      <td>access</td>\n",
       "      <td>qxvBNYTfiRkNcCvM0hcGwG6hvHdQwnd4</td>\n",
       "      <td>DPnLzkJJqOOPRJfBxIHbQEERiYHu5ila</td>\n",
       "      <td>qxvBNYTfiRkNcCvM0hcGwG6hvHdQwnd4</td>\n",
       "      <td>sequential</td>\n",
       "      <td>eYrKKricgwe3xyR0sBnvtQ70ItlYLlKs QLs2SBYSxph4E...</td>\n",
       "      <td>2013-11-04T01:00:00</td>\n",
       "    </tr>\n",
       "    <tr>\n",
       "      <td>485891</td>\n",
       "      <td>1</td>\n",
       "      <td>2014-07-11T08:59:01</td>\n",
       "      <td>browser</td>\n",
       "      <td>problem</td>\n",
       "      <td>5nh9lt9wd3cx8019zoIkYNuMpfFLFYSL</td>\n",
       "      <td>DPnLzkJJqOOPRJfBxIHbQEERiYHu5ila</td>\n",
       "      <td>5nh9lt9wd3cx8019zoIkYNuMpfFLFYSL</td>\n",
       "      <td>problem</td>\n",
       "      <td>NaN</td>\n",
       "      <td>NaN</td>\n",
       "    </tr>\n",
       "    <tr>\n",
       "      <td>485892</td>\n",
       "      <td>1</td>\n",
       "      <td>2014-07-11T08:59:46</td>\n",
       "      <td>browser</td>\n",
       "      <td>problem</td>\n",
       "      <td>5nh9lt9wd3cx8019zoIkYNuMpfFLFYSL</td>\n",
       "      <td>DPnLzkJJqOOPRJfBxIHbQEERiYHu5ila</td>\n",
       "      <td>5nh9lt9wd3cx8019zoIkYNuMpfFLFYSL</td>\n",
       "      <td>problem</td>\n",
       "      <td>NaN</td>\n",
       "      <td>NaN</td>\n",
       "    </tr>\n",
       "    <tr>\n",
       "      <td>486075</td>\n",
       "      <td>1</td>\n",
       "      <td>2014-07-11T08:59:05</td>\n",
       "      <td>server</td>\n",
       "      <td>access</td>\n",
       "      <td>YPEVl6YwNMdAZqaD5eGuzTQ68tzQX8KX</td>\n",
       "      <td>DPnLzkJJqOOPRJfBxIHbQEERiYHu5ila</td>\n",
       "      <td>YPEVl6YwNMdAZqaD5eGuzTQ68tzQX8KX</td>\n",
       "      <td>sequential</td>\n",
       "      <td>jJo0NTw9rqOgyiWdiAGIjY1uNmzSPEW4 yzbySK2Zk3zIJ...</td>\n",
       "      <td>NaN</td>\n",
       "    </tr>\n",
       "    <tr>\n",
       "      <td>486076</td>\n",
       "      <td>1</td>\n",
       "      <td>2014-07-11T09:12:55</td>\n",
       "      <td>browser</td>\n",
       "      <td>access</td>\n",
       "      <td>YPEVl6YwNMdAZqaD5eGuzTQ68tzQX8KX</td>\n",
       "      <td>DPnLzkJJqOOPRJfBxIHbQEERiYHu5ila</td>\n",
       "      <td>YPEVl6YwNMdAZqaD5eGuzTQ68tzQX8KX</td>\n",
       "      <td>sequential</td>\n",
       "      <td>jJo0NTw9rqOgyiWdiAGIjY1uNmzSPEW4 yzbySK2Zk3zIJ...</td>\n",
       "      <td>NaN</td>\n",
       "    </tr>\n",
       "  </tbody>\n",
       "</table>\n",
       "</div>"
      ],
      "text/plain": [
       "        enrollment_id                 time   source    event  \\\n",
       "0                   1  2014-06-14T09:38:39   server   access   \n",
       "485891              1  2014-07-11T08:59:01  browser  problem   \n",
       "485892              1  2014-07-11T08:59:46  browser  problem   \n",
       "486075              1  2014-07-11T08:59:05   server   access   \n",
       "486076              1  2014-07-11T09:12:55  browser   access   \n",
       "\n",
       "                                  object                         course_id  \\\n",
       "0       qxvBNYTfiRkNcCvM0hcGwG6hvHdQwnd4  DPnLzkJJqOOPRJfBxIHbQEERiYHu5ila   \n",
       "485891  5nh9lt9wd3cx8019zoIkYNuMpfFLFYSL  DPnLzkJJqOOPRJfBxIHbQEERiYHu5ila   \n",
       "485892  5nh9lt9wd3cx8019zoIkYNuMpfFLFYSL  DPnLzkJJqOOPRJfBxIHbQEERiYHu5ila   \n",
       "486075  YPEVl6YwNMdAZqaD5eGuzTQ68tzQX8KX  DPnLzkJJqOOPRJfBxIHbQEERiYHu5ila   \n",
       "486076  YPEVl6YwNMdAZqaD5eGuzTQ68tzQX8KX  DPnLzkJJqOOPRJfBxIHbQEERiYHu5ila   \n",
       "\n",
       "                               module_id    category  \\\n",
       "0       qxvBNYTfiRkNcCvM0hcGwG6hvHdQwnd4  sequential   \n",
       "485891  5nh9lt9wd3cx8019zoIkYNuMpfFLFYSL     problem   \n",
       "485892  5nh9lt9wd3cx8019zoIkYNuMpfFLFYSL     problem   \n",
       "486075  YPEVl6YwNMdAZqaD5eGuzTQ68tzQX8KX  sequential   \n",
       "486076  YPEVl6YwNMdAZqaD5eGuzTQ68tzQX8KX  sequential   \n",
       "\n",
       "                                                 children                start  \n",
       "0       eYrKKricgwe3xyR0sBnvtQ70ItlYLlKs QLs2SBYSxph4E...  2013-11-04T01:00:00  \n",
       "485891                                                NaN                  NaN  \n",
       "485892                                                NaN                  NaN  \n",
       "486075  jJo0NTw9rqOgyiWdiAGIjY1uNmzSPEW4 yzbySK2Zk3zIJ...                  NaN  \n",
       "486076  jJo0NTw9rqOgyiWdiAGIjY1uNmzSPEW4 yzbySK2Zk3zIJ...                  NaN  "
      ]
     },
     "execution_count": 3,
     "metadata": {},
     "output_type": "execute_result"
    }
   ],
   "source": [
    "merge1.sort_values(by='enrollment_id',inplace=True)\n",
    "merge1.head()"
   ]
  },
  {
   "cell_type": "markdown",
   "metadata": {},
   "source": [
    "### The object data from the file is taken and categorized into integer values for classification."
   ]
  },
  {
   "cell_type": "code",
   "execution_count": 4,
   "metadata": {},
   "outputs": [
    {
     "data": {
      "text/html": [
       "<div>\n",
       "<style scoped>\n",
       "    .dataframe tbody tr th:only-of-type {\n",
       "        vertical-align: middle;\n",
       "    }\n",
       "\n",
       "    .dataframe tbody tr th {\n",
       "        vertical-align: top;\n",
       "    }\n",
       "\n",
       "    .dataframe thead th {\n",
       "        text-align: right;\n",
       "    }\n",
       "</style>\n",
       "<table border=\"1\" class=\"dataframe\">\n",
       "  <thead>\n",
       "    <tr style=\"text-align: right;\">\n",
       "      <th></th>\n",
       "      <th>enrollment_id</th>\n",
       "      <th>time</th>\n",
       "      <th>source</th>\n",
       "      <th>event</th>\n",
       "      <th>object</th>\n",
       "      <th>course_id</th>\n",
       "      <th>module_id</th>\n",
       "      <th>category</th>\n",
       "      <th>children</th>\n",
       "      <th>start</th>\n",
       "    </tr>\n",
       "  </thead>\n",
       "  <tbody>\n",
       "    <tr>\n",
       "      <td>0</td>\n",
       "      <td>1</td>\n",
       "      <td>2014-06-14T09:38:39</td>\n",
       "      <td>0</td>\n",
       "      <td>3</td>\n",
       "      <td>qxvBNYTfiRkNcCvM0hcGwG6hvHdQwnd4</td>\n",
       "      <td>DPnLzkJJqOOPRJfBxIHbQEERiYHu5ila</td>\n",
       "      <td>qxvBNYTfiRkNcCvM0hcGwG6hvHdQwnd4</td>\n",
       "      <td>1</td>\n",
       "      <td>eYrKKricgwe3xyR0sBnvtQ70ItlYLlKs QLs2SBYSxph4E...</td>\n",
       "      <td>2013-11-04T01:00:00</td>\n",
       "    </tr>\n",
       "    <tr>\n",
       "      <td>485891</td>\n",
       "      <td>1</td>\n",
       "      <td>2014-07-11T08:59:01</td>\n",
       "      <td>1</td>\n",
       "      <td>1</td>\n",
       "      <td>5nh9lt9wd3cx8019zoIkYNuMpfFLFYSL</td>\n",
       "      <td>DPnLzkJJqOOPRJfBxIHbQEERiYHu5ila</td>\n",
       "      <td>5nh9lt9wd3cx8019zoIkYNuMpfFLFYSL</td>\n",
       "      <td>2</td>\n",
       "      <td>NaN</td>\n",
       "      <td>NaN</td>\n",
       "    </tr>\n",
       "    <tr>\n",
       "      <td>485892</td>\n",
       "      <td>1</td>\n",
       "      <td>2014-07-11T08:59:46</td>\n",
       "      <td>1</td>\n",
       "      <td>1</td>\n",
       "      <td>5nh9lt9wd3cx8019zoIkYNuMpfFLFYSL</td>\n",
       "      <td>DPnLzkJJqOOPRJfBxIHbQEERiYHu5ila</td>\n",
       "      <td>5nh9lt9wd3cx8019zoIkYNuMpfFLFYSL</td>\n",
       "      <td>2</td>\n",
       "      <td>NaN</td>\n",
       "      <td>NaN</td>\n",
       "    </tr>\n",
       "    <tr>\n",
       "      <td>486075</td>\n",
       "      <td>1</td>\n",
       "      <td>2014-07-11T08:59:05</td>\n",
       "      <td>0</td>\n",
       "      <td>3</td>\n",
       "      <td>YPEVl6YwNMdAZqaD5eGuzTQ68tzQX8KX</td>\n",
       "      <td>DPnLzkJJqOOPRJfBxIHbQEERiYHu5ila</td>\n",
       "      <td>YPEVl6YwNMdAZqaD5eGuzTQ68tzQX8KX</td>\n",
       "      <td>1</td>\n",
       "      <td>jJo0NTw9rqOgyiWdiAGIjY1uNmzSPEW4 yzbySK2Zk3zIJ...</td>\n",
       "      <td>NaN</td>\n",
       "    </tr>\n",
       "    <tr>\n",
       "      <td>486076</td>\n",
       "      <td>1</td>\n",
       "      <td>2014-07-11T09:12:55</td>\n",
       "      <td>1</td>\n",
       "      <td>3</td>\n",
       "      <td>YPEVl6YwNMdAZqaD5eGuzTQ68tzQX8KX</td>\n",
       "      <td>DPnLzkJJqOOPRJfBxIHbQEERiYHu5ila</td>\n",
       "      <td>YPEVl6YwNMdAZqaD5eGuzTQ68tzQX8KX</td>\n",
       "      <td>1</td>\n",
       "      <td>jJo0NTw9rqOgyiWdiAGIjY1uNmzSPEW4 yzbySK2Zk3zIJ...</td>\n",
       "      <td>NaN</td>\n",
       "    </tr>\n",
       "  </tbody>\n",
       "</table>\n",
       "</div>"
      ],
      "text/plain": [
       "        enrollment_id                 time  source event  \\\n",
       "0                   1  2014-06-14T09:38:39       0     3   \n",
       "485891              1  2014-07-11T08:59:01       1     1   \n",
       "485892              1  2014-07-11T08:59:46       1     1   \n",
       "486075              1  2014-07-11T08:59:05       0     3   \n",
       "486076              1  2014-07-11T09:12:55       1     3   \n",
       "\n",
       "                                  object                         course_id  \\\n",
       "0       qxvBNYTfiRkNcCvM0hcGwG6hvHdQwnd4  DPnLzkJJqOOPRJfBxIHbQEERiYHu5ila   \n",
       "485891  5nh9lt9wd3cx8019zoIkYNuMpfFLFYSL  DPnLzkJJqOOPRJfBxIHbQEERiYHu5ila   \n",
       "485892  5nh9lt9wd3cx8019zoIkYNuMpfFLFYSL  DPnLzkJJqOOPRJfBxIHbQEERiYHu5ila   \n",
       "486075  YPEVl6YwNMdAZqaD5eGuzTQ68tzQX8KX  DPnLzkJJqOOPRJfBxIHbQEERiYHu5ila   \n",
       "486076  YPEVl6YwNMdAZqaD5eGuzTQ68tzQX8KX  DPnLzkJJqOOPRJfBxIHbQEERiYHu5ila   \n",
       "\n",
       "                               module_id category  \\\n",
       "0       qxvBNYTfiRkNcCvM0hcGwG6hvHdQwnd4        1   \n",
       "485891  5nh9lt9wd3cx8019zoIkYNuMpfFLFYSL        2   \n",
       "485892  5nh9lt9wd3cx8019zoIkYNuMpfFLFYSL        2   \n",
       "486075  YPEVl6YwNMdAZqaD5eGuzTQ68tzQX8KX        1   \n",
       "486076  YPEVl6YwNMdAZqaD5eGuzTQ68tzQX8KX        1   \n",
       "\n",
       "                                                 children                start  \n",
       "0       eYrKKricgwe3xyR0sBnvtQ70ItlYLlKs QLs2SBYSxph4E...  2013-11-04T01:00:00  \n",
       "485891                                                NaN                  NaN  \n",
       "485892                                                NaN                  NaN  \n",
       "486075  jJo0NTw9rqOgyiWdiAGIjY1uNmzSPEW4 yzbySK2Zk3zIJ...                  NaN  \n",
       "486076  jJo0NTw9rqOgyiWdiAGIjY1uNmzSPEW4 yzbySK2Zk3zIJ...                  NaN  "
      ]
     },
     "execution_count": 4,
     "metadata": {},
     "output_type": "execute_result"
    }
   ],
   "source": [
    "replace_dict = {\"source\" : {\"server\":0,\"browser\":1},\n",
    "                \"event\"  : {\"problem\":1,\"video\":2,\"access\":3,\"wiki\":4,\"discussion\":5,\"navigate\":6,\"page_close\":7},\n",
    "                \"category\" : {\"sequential\":1,\"problem\":2,\"chapter\":3,\"video\":4}\n",
    "    \n",
    "}\n",
    "merge1.replace(replace_dict,inplace=True)\n",
    "merge1.head()"
   ]
  },
  {
   "cell_type": "markdown",
   "metadata": {},
   "source": [
    "### The final dataset that needs to be used for classification is built here using iloc."
   ]
  },
  {
   "cell_type": "code",
   "execution_count": 5,
   "metadata": {},
   "outputs": [],
   "source": [
    "c = merge1.groupby(['enrollment_id']).count()\n",
    "id = list(pd.unique(merge1['enrollment_id'].values))\n",
    "count1 = list(c['source'])"
   ]
  },
  {
   "cell_type": "code",
   "execution_count": 6,
   "metadata": {},
   "outputs": [],
   "source": [
    "server=[]\n",
    "browser=[]\n",
    "values=[]\n",
    "j=1\n",
    "for x in count1:\n",
    "    if j ==1:\n",
    "        w=merge1.iloc[j:x,:]\n",
    "    else:\n",
    "        w=merge1.iloc[j:j+x,:]\n",
    "    j=x\n",
    "    list1=list(w['source'])\n",
    "    list2=list(w['event'])\n",
    "    list3=list(w['category'])\n",
    "    server_count=0\n",
    "    browser_count=0\n",
    "    problem_s = 0\n",
    "    video_s = 0\n",
    "    access_s = 0\n",
    "    wiki_s =0 \n",
    "    discussion_s=0\n",
    "    navigate_s=0\n",
    "    page_close_s=0\n",
    "    problem_b = 0\n",
    "    video_b = 0\n",
    "    access_b = 0\n",
    "    wiki_b =0 \n",
    "    discussion_b=0\n",
    "    navigate_b=0\n",
    "    page_close_b=0\n",
    "    sequential1=0\n",
    "    problem=0\n",
    "    chapter=0\n",
    "    video=0\n",
    "    dict2 = {1:problem_s,2:video_s,3:access_s,4:wiki_s,5:discussion_s,6:navigate_s,7:page_close_s}\n",
    "    dict3 = {1:problem_b,2:video_b,3:access_b,4:wiki_b,5:discussion_b,6:navigate_b,7:page_close_b}\n",
    "    dict4 = {1:sequential1,2:chapter,3:problem,4:video}\n",
    "    for i in range(len(list1)):\n",
    "        dict4[list3[i]]+=1\n",
    "        if list1[i] == 0 :\n",
    "            server_count+=1\n",
    "            dict2[list2[i]]+=1\n",
    "        else:\n",
    "            browser_count+=1\n",
    "            dict3[list2[i]]+=1\n",
    "\n",
    "    server.append(server_count)\n",
    "    browser.append(browser_count)\n",
    "    values.append(list(dict2.values())+list(dict3.values())+list(dict4.values()))\n",
    "    \n",
    " "
   ]
  },
  {
   "cell_type": "code",
   "execution_count": 7,
   "metadata": {},
   "outputs": [],
   "source": [
    "temp2=[]\n",
    "for k in range(18):\n",
    "    temp=[]\n",
    "    for i in values:\n",
    "        temp.append(i[k])\n",
    "    temp2.append(temp)   "
   ]
  },
  {
   "cell_type": "code",
   "execution_count": 8,
   "metadata": {},
   "outputs": [],
   "source": [
    "X=pd.DataFrame()\n",
    "X['enrollment_id']=id\n",
    "X['server_count']=server\n",
    "X['browser_count']=browser\n",
    "X['problem_s']=temp2[0]\n",
    "X['video_s']=temp2[1]\n",
    "X['access_s']=temp2[2]\n",
    "X['wiki_s']=temp2[3]\n",
    "X['discussion_s']=temp2[4]\n",
    "X['navigate_s']=temp2[5]\n",
    "X['page_close_s']=temp2[6]\n",
    "X['problem_b']=temp2[7]\n",
    "X['video_b']=temp2[8]\n",
    "X['access_b']=temp2[9]\n",
    "X['wiki_b']=temp2[10]\n",
    "X['discussion_b']=temp2[11]\n",
    "X['navigate_b']=temp2[12]\n",
    "X['page_close_b']=temp2[13]\n",
    "X['category_sequential']=temp2[14]\n",
    "X['category_chapter']=temp2[15]\n",
    "X['category_problem']=temp2[16]\n",
    "X['category_video']=temp2[17]"
   ]
  },
  {
   "cell_type": "code",
   "execution_count": 9,
   "metadata": {},
   "outputs": [
    {
     "data": {
      "text/plain": [
       "(84905, 22)"
      ]
     },
     "execution_count": 9,
     "metadata": {},
     "output_type": "execute_result"
    }
   ],
   "source": [
    "z = pd.read_csv('truth_train.csv')\n",
    "X=X.merge(z,on='enrollment_id')\n",
    "X.shape"
   ]
  },
  {
   "cell_type": "markdown",
   "metadata": {},
   "source": [
    "### The final dataset is written into a file called \"FinalDataset.csv\"."
   ]
  },
  {
   "cell_type": "code",
   "execution_count": 10,
   "metadata": {},
   "outputs": [
    {
     "data": {
      "text/html": [
       "<div>\n",
       "<style scoped>\n",
       "    .dataframe tbody tr th:only-of-type {\n",
       "        vertical-align: middle;\n",
       "    }\n",
       "\n",
       "    .dataframe tbody tr th {\n",
       "        vertical-align: top;\n",
       "    }\n",
       "\n",
       "    .dataframe thead th {\n",
       "        text-align: right;\n",
       "    }\n",
       "</style>\n",
       "<table border=\"1\" class=\"dataframe\">\n",
       "  <thead>\n",
       "    <tr style=\"text-align: right;\">\n",
       "      <th></th>\n",
       "      <th>enrollment_id</th>\n",
       "      <th>server_count</th>\n",
       "      <th>browser_count</th>\n",
       "      <th>problem_s</th>\n",
       "      <th>video_s</th>\n",
       "      <th>access_s</th>\n",
       "      <th>wiki_s</th>\n",
       "      <th>discussion_s</th>\n",
       "      <th>navigate_s</th>\n",
       "      <th>page_close_s</th>\n",
       "      <th>...</th>\n",
       "      <th>access_b</th>\n",
       "      <th>wiki_b</th>\n",
       "      <th>discussion_b</th>\n",
       "      <th>navigate_b</th>\n",
       "      <th>page_close_b</th>\n",
       "      <th>category_sequential</th>\n",
       "      <th>category_chapter</th>\n",
       "      <th>category_problem</th>\n",
       "      <th>category_video</th>\n",
       "      <th>dropout</th>\n",
       "    </tr>\n",
       "  </thead>\n",
       "  <tbody>\n",
       "    <tr>\n",
       "      <td>0</td>\n",
       "      <td>1</td>\n",
       "      <td>79</td>\n",
       "      <td>125</td>\n",
       "      <td>8</td>\n",
       "      <td>0</td>\n",
       "      <td>71</td>\n",
       "      <td>0</td>\n",
       "      <td>0</td>\n",
       "      <td>0</td>\n",
       "      <td>0</td>\n",
       "      <td>...</td>\n",
       "      <td>21</td>\n",
       "      <td>0</td>\n",
       "      <td>0</td>\n",
       "      <td>0</td>\n",
       "      <td>0</td>\n",
       "      <td>79</td>\n",
       "      <td>83</td>\n",
       "      <td>13</td>\n",
       "      <td>29</td>\n",
       "      <td>0</td>\n",
       "    </tr>\n",
       "    <tr>\n",
       "      <td>1</td>\n",
       "      <td>3</td>\n",
       "      <td>38</td>\n",
       "      <td>188</td>\n",
       "      <td>3</td>\n",
       "      <td>0</td>\n",
       "      <td>35</td>\n",
       "      <td>0</td>\n",
       "      <td>0</td>\n",
       "      <td>0</td>\n",
       "      <td>0</td>\n",
       "      <td>...</td>\n",
       "      <td>34</td>\n",
       "      <td>0</td>\n",
       "      <td>0</td>\n",
       "      <td>0</td>\n",
       "      <td>0</td>\n",
       "      <td>60</td>\n",
       "      <td>148</td>\n",
       "      <td>9</td>\n",
       "      <td>9</td>\n",
       "      <td>0</td>\n",
       "    </tr>\n",
       "    <tr>\n",
       "      <td>2</td>\n",
       "      <td>4</td>\n",
       "      <td>15</td>\n",
       "      <td>47</td>\n",
       "      <td>2</td>\n",
       "      <td>0</td>\n",
       "      <td>13</td>\n",
       "      <td>0</td>\n",
       "      <td>0</td>\n",
       "      <td>0</td>\n",
       "      <td>0</td>\n",
       "      <td>...</td>\n",
       "      <td>12</td>\n",
       "      <td>0</td>\n",
       "      <td>0</td>\n",
       "      <td>0</td>\n",
       "      <td>0</td>\n",
       "      <td>19</td>\n",
       "      <td>35</td>\n",
       "      <td>6</td>\n",
       "      <td>2</td>\n",
       "      <td>0</td>\n",
       "    </tr>\n",
       "    <tr>\n",
       "      <td>3</td>\n",
       "      <td>5</td>\n",
       "      <td>165</td>\n",
       "      <td>317</td>\n",
       "      <td>9</td>\n",
       "      <td>0</td>\n",
       "      <td>156</td>\n",
       "      <td>0</td>\n",
       "      <td>0</td>\n",
       "      <td>0</td>\n",
       "      <td>0</td>\n",
       "      <td>...</td>\n",
       "      <td>63</td>\n",
       "      <td>0</td>\n",
       "      <td>0</td>\n",
       "      <td>0</td>\n",
       "      <td>0</td>\n",
       "      <td>192</td>\n",
       "      <td>215</td>\n",
       "      <td>27</td>\n",
       "      <td>48</td>\n",
       "      <td>0</td>\n",
       "    </tr>\n",
       "    <tr>\n",
       "      <td>4</td>\n",
       "      <td>6</td>\n",
       "      <td>12</td>\n",
       "      <td>2</td>\n",
       "      <td>0</td>\n",
       "      <td>0</td>\n",
       "      <td>12</td>\n",
       "      <td>0</td>\n",
       "      <td>0</td>\n",
       "      <td>0</td>\n",
       "      <td>0</td>\n",
       "      <td>...</td>\n",
       "      <td>0</td>\n",
       "      <td>0</td>\n",
       "      <td>0</td>\n",
       "      <td>0</td>\n",
       "      <td>0</td>\n",
       "      <td>8</td>\n",
       "      <td>0</td>\n",
       "      <td>4</td>\n",
       "      <td>2</td>\n",
       "      <td>0</td>\n",
       "    </tr>\n",
       "  </tbody>\n",
       "</table>\n",
       "<p>5 rows × 22 columns</p>\n",
       "</div>"
      ],
      "text/plain": [
       "   enrollment_id  server_count  browser_count  problem_s  video_s  access_s  \\\n",
       "0              1            79            125          8        0        71   \n",
       "1              3            38            188          3        0        35   \n",
       "2              4            15             47          2        0        13   \n",
       "3              5           165            317          9        0       156   \n",
       "4              6            12              2          0        0        12   \n",
       "\n",
       "   wiki_s  discussion_s  navigate_s  page_close_s  ...  access_b  wiki_b  \\\n",
       "0       0             0           0             0  ...        21       0   \n",
       "1       0             0           0             0  ...        34       0   \n",
       "2       0             0           0             0  ...        12       0   \n",
       "3       0             0           0             0  ...        63       0   \n",
       "4       0             0           0             0  ...         0       0   \n",
       "\n",
       "   discussion_b  navigate_b  page_close_b  category_sequential  \\\n",
       "0             0           0             0                   79   \n",
       "1             0           0             0                   60   \n",
       "2             0           0             0                   19   \n",
       "3             0           0             0                  192   \n",
       "4             0           0             0                    8   \n",
       "\n",
       "   category_chapter  category_problem  category_video  dropout  \n",
       "0                83                13              29        0  \n",
       "1               148                 9               9        0  \n",
       "2                35                 6               2        0  \n",
       "3               215                27              48        0  \n",
       "4                 0                 4               2        0  \n",
       "\n",
       "[5 rows x 22 columns]"
      ]
     },
     "execution_count": 10,
     "metadata": {},
     "output_type": "execute_result"
    }
   ],
   "source": [
    "X.to_csv(\"FinalDataSet.csv\",index=False)\n",
    "X.head()"
   ]
  },
  {
   "cell_type": "markdown",
   "metadata": {},
   "source": [
    "### Columns that are not used in classification are dropped."
   ]
  },
  {
   "cell_type": "code",
   "execution_count": 11,
   "metadata": {},
   "outputs": [],
   "source": [
    "y=X[\"dropout\"]\n",
    "X.drop([\"enrollment_id\",\"dropout\"],axis=1,inplace=True)\n"
   ]
  },
  {
   "cell_type": "markdown",
   "metadata": {},
   "source": [
    "# Model Selection"
   ]
  },
  {
   "cell_type": "markdown",
   "metadata": {},
   "source": [
    "### The built dataset is split into test and train for classification."
   ]
  },
  {
   "cell_type": "code",
   "execution_count": 67,
   "metadata": {},
   "outputs": [],
   "source": [
    "from sklearn.model_selection import train_test_split\n",
    "X_train, X_test, y_train, y_test = train_test_split(X, y, test_size = 0.3, random_state = 0)\n",
    "classifiers=[]\n",
    "accuracy=[]\n",
    "precision=[]\n",
    "recall=[]\n",
    "roc=[]"
   ]
  },
  {
   "cell_type": "markdown",
   "metadata": {},
   "source": [
    "## Classification:"
   ]
  },
  {
   "cell_type": "markdown",
   "metadata": {},
   "source": [
    "## 1. Logistic Regression"
   ]
  },
  {
   "cell_type": "code",
   "execution_count": 68,
   "metadata": {},
   "outputs": [
    {
     "name": "stderr",
     "output_type": "stream",
     "text": [
      "C:\\Users\\saima\\Anaconda3\\lib\\site-packages\\sklearn\\linear_model\\logistic.py:432: FutureWarning: Default solver will be changed to 'lbfgs' in 0.22. Specify a solver to silence this warning.\n",
      "  FutureWarning)\n"
     ]
    },
    {
     "name": "stdout",
     "output_type": "stream",
     "text": [
      "The confusion matrix for logistic regression is:\n",
      " [[ 2545  4287]\n",
      " [  979 17661]]\n",
      "roc_auc_score:  0.6599951251872029\n"
     ]
    },
    {
     "data": {
      "image/png": "[encoded data removed]",
      "text/plain": [
       "<Figure size 720x720 with 1 Axes>"
      ]
     },
     "metadata": {
      "needs_background": "light"
     },
     "output_type": "display_data"
    }
   ],
   "source": [
    "from sklearn.linear_model import LogisticRegression\n",
    "from sklearn.metrics import accuracy_score\n",
    "from sklearn.metrics import precision_score\n",
    "from sklearn.metrics import recall_score\n",
    "from sklearn.metrics import roc_curve, roc_auc_score\n",
    "\n",
    "\n",
    "classifier = LogisticRegression(random_state = 0)\n",
    "classifier.fit(X_train, y_train)\n",
    "\n",
    "# Predicting the Test set results\n",
    "y_pred = classifier.predict(X_test)\n",
    "\n",
    "# Making the Confusion Matrix\n",
    "from sklearn.metrics import confusion_matrix\n",
    "cm = confusion_matrix(y_test, y_pred)\n",
    "accuracy.append(accuracy_score(y_test,y_pred))\n",
    "precision.append(precision_score(y_test,y_pred))\n",
    "recall.append(recall_score(y_test,y_pred))\n",
    "print(\"The confusion matrix for logistic regression is:\\n\",cm)\n",
    "classifiers.append('Logistic Regression')\n",
    "#Roc Curve\n",
    "false_positive_rate1, true_positive_rate1, threshold1 = roc_curve(y_test, y_pred)\n",
    "print('roc_auc_score: ', roc_auc_score(y_test, y_pred))\n",
    "roc.append(roc_auc_score(y_test, y_pred))\n",
    "\n",
    "# Plot ROC curves\n",
    "plt.subplots(1, figsize=(10,10))\n",
    "plt.title('Receiver Operating Characteristic - Logistic Regression')\n",
    "plt.plot(false_positive_rate1, true_positive_rate1)\n",
    "plt.plot([0, 1], ls=\"--\")\n",
    "plt.plot([0, 0], [1, 0] , c=\".7\"), plt.plot([1, 1] , c=\".7\")\n",
    "plt.ylabel('True Positive Rate')\n",
    "plt.xlabel('False Positive Rate')\n",
    "plt.show()\n"
   ]
  },
  {
   "cell_type": "markdown",
   "metadata": {},
   "source": [
    "## 2. AdaBoostClassifier"
   ]
  },
  {
   "cell_type": "code",
   "execution_count": 69,
   "metadata": {},
   "outputs": [
    {
     "name": "stdout",
     "output_type": "stream",
     "text": [
      "The confusion matrix for AdaBoostClassifier is:\n",
      " [[ 3416  3416]\n",
      " [ 1576 17064]]\n",
      "roc_auc_score:  0.7077253218884121\n"
     ]
    },
    {
     "data": {
      "image/png": "[encoded data removed]",
      "text/plain": [
       "<Figure size 720x720 with 1 Axes>"
      ]
     },
     "metadata": {
      "needs_background": "light"
     },
     "output_type": "display_data"
    }
   ],
   "source": [
    "from sklearn.ensemble import AdaBoostClassifier\n",
    "classifier = AdaBoostClassifier()\n",
    "classifier.fit(X_train, y_train)\n",
    "\n",
    "# Predicting the Test set results\n",
    "y_pred = classifier.predict(X_test)\n",
    "\n",
    "# Making the Confusion Matrix\n",
    "from sklearn.metrics import confusion_matrix\n",
    "cm = confusion_matrix(y_test, y_pred)\n",
    "accuracy.append(accuracy_score(y_test,y_pred))\n",
    "precision.append(precision_score(y_test,y_pred))\n",
    "recall.append(recall_score(y_test,y_pred))\n",
    "print(\"The confusion matrix for AdaBoostClassifier is:\\n\",cm)\n",
    "classifiers.append('AdaBoostClassifier')\n",
    "# Roc curve\n",
    "false_positive_rate1, true_positive_rate1, threshold1 = roc_curve(y_test, y_pred)\n",
    "print('roc_auc_score: ', roc_auc_score(y_test, y_pred))\n",
    "roc.append(roc_auc_score(y_test, y_pred))\n",
    "\n",
    "# Plot ROC curves\n",
    "plt.subplots(1, figsize=(10,10))\n",
    "plt.title('Receiver Operating Characteristic - Adabooster Classifier')\n",
    "plt.plot(false_positive_rate1, true_positive_rate1)\n",
    "plt.plot([0, 1], ls=\"--\")\n",
    "plt.plot([0, 0], [1, 0] , c=\".7\"), plt.plot([1, 1] , c=\".7\")\n",
    "plt.ylabel('True Positive Rate')\n",
    "plt.xlabel('False Positive Rate')\n",
    "plt.show()"
   ]
  },
  {
   "cell_type": "markdown",
   "metadata": {},
   "source": [
    "## 3. Decison Tree Classification"
   ]
  },
  {
   "cell_type": "code",
   "execution_count": 70,
   "metadata": {},
   "outputs": [
    {
     "name": "stdout",
     "output_type": "stream",
     "text": [
      "The confusion matrix for Decision Tree Classification is:\n",
      " [[ 3167  3665]\n",
      " [ 2214 16426]]\n",
      "roc_auc_score:  0.6723885200671418\n"
     ]
    },
    {
     "data": {
      "image/png": "[encoded data removed]",
      "text/plain": [
       "<Figure size 720x720 with 1 Axes>"
      ]
     },
     "metadata": {
      "needs_background": "light"
     },
     "output_type": "display_data"
    }
   ],
   "source": [
    "from sklearn.tree import DecisionTreeClassifier\n",
    "classifier = DecisionTreeClassifier(criterion = 'entropy', random_state = 0)\n",
    "classifier.fit(X_train, y_train)\n",
    "\n",
    "# Predicting the Test set results\n",
    "y_pred = classifier.predict(X_test)\n",
    "\n",
    "# Making the Confusion Matrix\n",
    "from sklearn.metrics import confusion_matrix\n",
    "cm = confusion_matrix(y_test, y_pred)\n",
    "accuracy.append(accuracy_score(y_test,y_pred))\n",
    "precision.append(precision_score(y_test,y_pred))\n",
    "recall.append(recall_score(y_test,y_pred))\n",
    "print(\"The confusion matrix for Decision Tree Classification is:\\n\",cm)\n",
    "classifiers.append('Decision tree')\n",
    "# Roc\n",
    "false_positive_rate1, true_positive_rate1, threshold1 = roc_curve(y_test, y_pred)\n",
    "print('roc_auc_score: ', roc_auc_score(y_test, y_pred))\n",
    "roc.append(roc_auc_score(y_test, y_pred))\n",
    "\n",
    "# Plot ROC curves\n",
    "plt.subplots(1, figsize=(10,10))\n",
    "plt.title('Receiver Operating Characteristic - DecisionTree')\n",
    "plt.plot(false_positive_rate1, true_positive_rate1)\n",
    "plt.plot([0, 1], ls=\"--\")\n",
    "plt.plot([0, 0], [1, 0] , c=\".7\"), plt.plot([1, 1] , c=\".7\")\n",
    "plt.ylabel('True Positive Rate')\n",
    "plt.xlabel('False Positive Rate')\n",
    "plt.show()"
   ]
  },
  {
   "cell_type": "markdown",
   "metadata": {},
   "source": [
    "## 4. K- Nearest Neighbour Classification"
   ]
  },
  {
   "cell_type": "code",
   "execution_count": 71,
   "metadata": {},
   "outputs": [
    {
     "name": "stdout",
     "output_type": "stream",
     "text": [
      "The confusion matrix for K- Nearest Neighbour Classification  is:\n",
      " [[ 3331  3501]\n",
      " [ 2047 16593]]\n",
      "roc_auc_score:  0.6888704757214221\n"
     ]
    },
    {
     "data": {
      "image/png": "[encoded data removed]",
      "text/plain": [
       "<Figure size 720x720 with 1 Axes>"
      ]
     },
     "metadata": {
      "needs_background": "light"
     },
     "output_type": "display_data"
    }
   ],
   "source": [
    "from sklearn.neighbors import KNeighborsClassifier\n",
    "classifier=KNeighborsClassifier()\n",
    "classifier.fit(X_train,y_train)\n",
    "\n",
    "#Predicting the Test Data using Train data\n",
    "y_pred=classifier.predict(X_test)\n",
    "\n",
    "#Making the Confusion Matrix\n",
    "from sklearn.metrics import confusion_matrix\n",
    "cm=confusion_matrix(y_test,y_pred)\n",
    "accuracy.append(accuracy_score(y_test,y_pred))\n",
    "precision.append(precision_score(y_test,y_pred))\n",
    "recall.append(recall_score(y_test,y_pred))\n",
    "print(\"The confusion matrix for K- Nearest Neighbour Classification  is:\\n\",cm)\n",
    "classifiers.append('K- Nearest Neighbour')\n",
    "#roc\n",
    "false_positive_rate1, true_positive_rate1, threshold1 = roc_curve(y_test, y_pred)\n",
    "print('roc_auc_score: ', roc_auc_score(y_test, y_pred))\n",
    "roc.append(roc_auc_score(y_test, y_pred))\n",
    "\n",
    "# Plot ROC curves\n",
    "plt.subplots(1, figsize=(10,10))\n",
    "plt.title('Receiver Operating Characteristic - KNN')\n",
    "plt.plot(false_positive_rate1, true_positive_rate1)\n",
    "plt.plot([0, 1], ls=\"--\")\n",
    "plt.plot([0, 0], [1, 0] , c=\".7\"), plt.plot([1, 1] , c=\".7\")\n",
    "plt.ylabel('True Positive Rate')\n",
    "plt.xlabel('False Positive Rate')\n",
    "plt.show()"
   ]
  },
  {
   "cell_type": "markdown",
   "metadata": {},
   "source": [
    "## 5. Naive Bayes Classification"
   ]
  },
  {
   "cell_type": "code",
   "execution_count": 72,
   "metadata": {},
   "outputs": [
    {
     "name": "stdout",
     "output_type": "stream",
     "text": [
      "The confusion matrix for Naive Bayes Classification  is:\n",
      " [[ 2761  4071]\n",
      " [ 1069 17571]]\n",
      "roc_auc_score:  0.673388924626348\n"
     ]
    },
    {
     "data": {
      "image/png": "[encoded data removed]",
      "text/plain": [
       "<Figure size 720x720 with 1 Axes>"
      ]
     },
     "metadata": {
      "needs_background": "light"
     },
     "output_type": "display_data"
    }
   ],
   "source": [
    "from sklearn.naive_bayes import GaussianNB\n",
    "classifier = GaussianNB()\n",
    "classifier.fit(X_train, y_train)\n",
    "\n",
    "# Predicting the Test set results\n",
    "y_pred = classifier.predict(X_test)\n",
    "\n",
    "# Making the Confusion Matrix\n",
    "from sklearn.metrics import confusion_matrix\n",
    "cm = confusion_matrix(y_test, y_pred)\n",
    "accuracy.append(accuracy_score(y_test,y_pred))\n",
    "precision.append(precision_score(y_test,y_pred))\n",
    "recall.append(recall_score(y_test,y_pred))\n",
    "print(\"The confusion matrix for Naive Bayes Classification  is:\\n\",cm)\n",
    "classifiers.append('Naive Bayes')\n",
    "false_positive_rate1, true_positive_rate1, threshold1 = roc_curve(y_test, y_pred)\n",
    "print('roc_auc_score: ', roc_auc_score(y_test, y_pred))\n",
    "roc.append(roc_auc_score(y_test, y_pred))\n",
    "\n",
    "# Plot ROC curves\n",
    "plt.subplots(1, figsize=(10,10))\n",
    "plt.title('Receiver Operating Characteristic - Naive Bayes')\n",
    "plt.plot(false_positive_rate1, true_positive_rate1)\n",
    "plt.plot([0, 1], ls=\"--\")\n",
    "plt.plot([0, 0], [1, 0] , c=\".7\"), plt.plot([1, 1] , c=\".7\")\n",
    "plt.ylabel('True Positive Rate')\n",
    "plt.xlabel('False Positive Rate')\n",
    "plt.show()"
   ]
  },
  {
   "cell_type": "markdown",
   "metadata": {},
   "source": [
    "## 6. Random Forest Classification"
   ]
  },
  {
   "cell_type": "code",
   "execution_count": 73,
   "metadata": {},
   "outputs": [
    {
     "name": "stdout",
     "output_type": "stream",
     "text": [
      "The confusion matrix for Random Forest Classification  is:\n",
      " [[ 3169  3663]\n",
      " [ 1975 16665]]\n",
      "roc_auc_score:  0.6789458342965695\n"
     ]
    },
    {
     "data": {
      "image/png": "[encoded data removed]",
      "text/plain": [
       "<Figure size 720x720 with 1 Axes>"
      ]
     },
     "metadata": {
      "needs_background": "light"
     },
     "output_type": "display_data"
    }
   ],
   "source": [
    "from sklearn.ensemble import RandomForestClassifier\n",
    "classifier = RandomForestClassifier(n_estimators = 10, criterion = 'entropy', random_state = 0)\n",
    "classifier.fit(X_train, y_train)\n",
    "\n",
    "# Predicting the Test set results\n",
    "y_pred = classifier.predict(X_test)\n",
    "\n",
    "# Making the Confusion Matrix\n",
    "from sklearn.metrics import confusion_matrix\n",
    "cm = confusion_matrix(y_test, y_pred)\n",
    "accuracy.append(accuracy_score(y_test,y_pred))\n",
    "precision.append(precision_score(y_test,y_pred))\n",
    "recall.append(recall_score(y_test,y_pred))\n",
    "print(\"The confusion matrix for Random Forest Classification  is:\\n\",cm)\n",
    "classifiers.append('Random Forest')\n",
    "#roc\n",
    "false_positive_rate1, true_positive_rate1, threshold1 = roc_curve(y_test, y_pred)\n",
    "print('roc_auc_score: ', roc_auc_score(y_test, y_pred))\n",
    "roc.append(roc_auc_score(y_test, y_pred))\n",
    "\n",
    "# Plot ROC curves\n",
    "plt.subplots(1, figsize=(10,10))\n",
    "plt.title('Receiver Operating Characteristic - Random Forest')\n",
    "plt.plot(false_positive_rate1, true_positive_rate1)\n",
    "plt.plot([0, 1], ls=\"--\")\n",
    "plt.plot([0, 0], [1, 0] , c=\".7\"), plt.plot([1, 1] , c=\".7\")\n",
    "plt.ylabel('True Positive Rate')\n",
    "plt.xlabel('False Positive Rate')\n",
    "plt.show()\n"
   ]
  },
  {
   "cell_type": "markdown",
   "metadata": {},
   "source": [
    "## 7.GradientBoostingClassifier"
   ]
  },
  {
   "cell_type": "code",
   "execution_count": 74,
   "metadata": {},
   "outputs": [
    {
     "name": "stdout",
     "output_type": "stream",
     "text": [
      "The confusion matrix for GradientBoostingClassifier  is:\n",
      " [[ 3459  3373]\n",
      " [ 1594 17046]]\n",
      "roc_auc_score:  0.7103894447738991\n"
     ]
    },
    {
     "data": {
      "image/png": "[encoded data removed]",
      "text/plain": [
       "<Figure size 720x720 with 1 Axes>"
      ]
     },
     "metadata": {
      "needs_background": "light"
     },
     "output_type": "display_data"
    }
   ],
   "source": [
    "from sklearn.ensemble import GradientBoostingClassifier\n",
    "classifier = GradientBoostingClassifier()\n",
    "classifier.fit(X_train, y_train)\n",
    "\n",
    "# Predicting the Test set results\n",
    "y_pred = classifier.predict(X_test)\n",
    "\n",
    "# Making the Confusion Matrix\n",
    "from sklearn.metrics import confusion_matrix\n",
    "cm = confusion_matrix(y_test, y_pred)\n",
    "accuracy.append(accuracy_score(y_test,y_pred))\n",
    "precision.append(precision_score(y_test,y_pred))\n",
    "recall.append(recall_score(y_test,y_pred))\n",
    "print(\"The confusion matrix for GradientBoostingClassifier  is:\\n\",cm)\n",
    "classifiers.append('GradientBoostingClassifier')\n",
    "#roc\n",
    "false_positive_rate1, true_positive_rate1, threshold1 = roc_curve(y_test, y_pred)\n",
    "print('roc_auc_score: ', roc_auc_score(y_test, y_pred))\n",
    "roc.append(roc_auc_score(y_test, y_pred))\n",
    "\n",
    "# Plot ROC curves\n",
    "plt.subplots(1, figsize=(10,10))\n",
    "plt.title('Receiver Operating Characteristic - GradientBoosting Classifier')\n",
    "plt.plot(false_positive_rate1, true_positive_rate1)\n",
    "plt.plot([0, 1], ls=\"--\")\n",
    "plt.plot([0, 0], [1, 0] , c=\".7\"), plt.plot([1, 1] , c=\".7\")\n",
    "plt.ylabel('True Positive Rate')\n",
    "plt.xlabel('False Positive Rate')\n",
    "plt.show()"
   ]
  },
  {
   "cell_type": "code",
   "execution_count": 75,
   "metadata": {},
   "outputs": [
    {
     "data": {
      "text/plain": [
       "[0.6599951251872029,\n",
       " 0.7077253218884121,\n",
       " 0.6723885200671418,\n",
       " 0.6888704757214221,\n",
       " 0.673388924626348,\n",
       " 0.6789458342965695,\n",
       " 0.7103894447738991]"
      ]
     },
     "execution_count": 75,
     "metadata": {},
     "output_type": "execute_result"
    }
   ],
   "source": [
    "roc"
   ]
  },
  {
   "cell_type": "markdown",
   "metadata": {},
   "source": [
    "### All the accuracy, precision and recall values for the predicted output of the classifiers are taken as list of values which are further used for visualization of data."
   ]
  },
  {
   "cell_type": "markdown",
   "metadata": {},
   "source": [
    "## VISUALIZATION"
   ]
  },
  {
   "cell_type": "code",
   "execution_count": 76,
   "metadata": {},
   "outputs": [
    {
     "data": {
      "text/html": [
       "<div>\n",
       "<style scoped>\n",
       "    .dataframe tbody tr th:only-of-type {\n",
       "        vertical-align: middle;\n",
       "    }\n",
       "\n",
       "    .dataframe tbody tr th {\n",
       "        vertical-align: top;\n",
       "    }\n",
       "\n",
       "    .dataframe thead th {\n",
       "        text-align: right;\n",
       "    }\n",
       "</style>\n",
       "<table border=\"1\" class=\"dataframe\">\n",
       "  <thead>\n",
       "    <tr style=\"text-align: right;\">\n",
       "      <th></th>\n",
       "      <th>Accuracy</th>\n",
       "      <th>Precision_score</th>\n",
       "      <th>Recall_score</th>\n",
       "      <th>roc_score</th>\n",
       "    </tr>\n",
       "    <tr>\n",
       "      <th>Classifiers</th>\n",
       "      <th></th>\n",
       "      <th></th>\n",
       "      <th></th>\n",
       "      <th></th>\n",
       "    </tr>\n",
       "  </thead>\n",
       "  <tbody>\n",
       "    <tr>\n",
       "      <td>Logistic Regression</td>\n",
       "      <td>0.793263</td>\n",
       "      <td>0.804675</td>\n",
       "      <td>0.947479</td>\n",
       "      <td>0.659995</td>\n",
       "    </tr>\n",
       "    <tr>\n",
       "      <td>AdaBoostClassifier</td>\n",
       "      <td>0.804020</td>\n",
       "      <td>0.833203</td>\n",
       "      <td>0.915451</td>\n",
       "      <td>0.707725</td>\n",
       "    </tr>\n",
       "    <tr>\n",
       "      <td>Decision tree</td>\n",
       "      <td>0.769198</td>\n",
       "      <td>0.817580</td>\n",
       "      <td>0.881223</td>\n",
       "      <td>0.672389</td>\n",
       "    </tr>\n",
       "    <tr>\n",
       "      <td>K- Nearest Neighbour</td>\n",
       "      <td>0.782192</td>\n",
       "      <td>0.825769</td>\n",
       "      <td>0.890182</td>\n",
       "      <td>0.688870</td>\n",
       "    </tr>\n",
       "    <tr>\n",
       "      <td>Naive Bayes</td>\n",
       "      <td>0.798210</td>\n",
       "      <td>0.811894</td>\n",
       "      <td>0.942650</td>\n",
       "      <td>0.673389</td>\n",
       "    </tr>\n",
       "    <tr>\n",
       "      <td>Random Forest</td>\n",
       "      <td>0.778659</td>\n",
       "      <td>0.819805</td>\n",
       "      <td>0.894045</td>\n",
       "      <td>0.678946</td>\n",
       "    </tr>\n",
       "    <tr>\n",
       "      <td>GradientBoostingClassifier</td>\n",
       "      <td>0.805002</td>\n",
       "      <td>0.834811</td>\n",
       "      <td>0.914485</td>\n",
       "      <td>0.710389</td>\n",
       "    </tr>\n",
       "  </tbody>\n",
       "</table>\n",
       "</div>"
      ],
      "text/plain": [
       "                            Accuracy  Precision_score  Recall_score  roc_score\n",
       "Classifiers                                                                   \n",
       "Logistic Regression         0.793263         0.804675      0.947479   0.659995\n",
       "AdaBoostClassifier          0.804020         0.833203      0.915451   0.707725\n",
       "Decision tree               0.769198         0.817580      0.881223   0.672389\n",
       "K- Nearest Neighbour        0.782192         0.825769      0.890182   0.688870\n",
       "Naive Bayes                 0.798210         0.811894      0.942650   0.673389\n",
       "Random Forest               0.778659         0.819805      0.894045   0.678946\n",
       "GradientBoostingClassifier  0.805002         0.834811      0.914485   0.710389"
      ]
     },
     "execution_count": 76,
     "metadata": {},
     "output_type": "execute_result"
    }
   ],
   "source": [
    "import matplotlib.pyplot as plt\n",
    "df = pd.DataFrame()\n",
    "df['Classifiers']=classifiers\n",
    "df[\"Accuracy\"]= accuracy\n",
    "df[\"Precision_score\"]=precision\n",
    "df[\"Recall_score\"]=recall\n",
    "df['roc_score']=roc\n",
    "df.set_index('Classifiers',inplace=True)\n",
    "df"
   ]
  },
  {
   "cell_type": "code",
   "execution_count": 77,
   "metadata": {},
   "outputs": [
    {
     "data": {
      "text/plain": [
       "<matplotlib.axes._subplots.AxesSubplot at 0x25fc3129c08>"
      ]
     },
     "execution_count": 77,
     "metadata": {},
     "output_type": "execute_result"
    },
    {
     "data": {
      "image/png": "[encoded data removed]",
      "text/plain": [
       "<Figure size 1440x1440 with 1 Axes>"
      ]
     },
     "metadata": {
      "needs_background": "light"
     },
     "output_type": "display_data"
    }
   ],
   "source": [
    "df.plot(kind='barh',figsize=(20,20))"
   ]
  },
  {
   "cell_type": "code",
   "execution_count": 56,
   "metadata": {},
   "outputs": [
    {
     "name": "stdout",
     "output_type": "stream",
     "text": [
      "The Best Fit Classification model for this Dataset is GradientBoost Classifier with accuracy of 0.8050408291457286\n"
     ]
    }
   ],
   "source": [
    "print(\"The Best Fit Classification model for this Dataset is GradientBoost Classifier with accuracy of\",max(accuracy))"
   ]
  },
  {
   "cell_type": "markdown",
   "metadata": {},
   "source": [
    "## Conclusion:"
   ]
  },
  {
   "cell_type": "markdown",
   "metadata": {},
   "source": [
    "When we apply, the above classifications to our dataset. We can say the best fit model based on:\n",
    "- Accuracy  : GradientBoost Classifier\n",
    "- Precision : GradientBoost Classifier\n",
    "- Recall    : Logistic Regression\n",
    "- Roc_score : GradientBoosting Classifier\n"
   ]
  },
  {
   "cell_type": "markdown",
   "metadata": {},
   "source": [
    "### We can conclude that the best fit model for our dataset by our analysis is GradientBoost Classifier"
   ]
  },
  {
   "cell_type": "code",
   "execution_count": null,
   "metadata": {},
   "outputs": [],
   "source": []
  }
 ],
 "metadata": {
  "kernelspec": {
   "display_name": "Python 3",
   "language": "python",
   "name": "python3"
  },
  "language_info": {
   "codemirror_mode": {
    "name": "ipython",
    "version": 3
   },
   "file_extension": ".py",
   "mimetype": "text/x-python",
   "name": "python",
   "nbconvert_exporter": "python",
   "pygments_lexer": "ipython3",
   "version": "3.7.4"
  }
 },
 "nbformat": 4,
 "nbformat_minor": 2
}
